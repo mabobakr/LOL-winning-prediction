{
 "cells": [
  {
   "cell_type": "code",
   "execution_count": 3,
   "metadata": {},
   "outputs": [],
   "source": [
    "# !pip install sklearn pandas matplotlib"
   ]
  },
  {
   "cell_type": "code",
   "execution_count": 12,
   "metadata": {},
   "outputs": [
    {
     "name": "stdout",
     "output_type": "stream",
     "text": [
      "The autoreload extension is already loaded. To reload it, use:\n",
      "  %reload_ext autoreload\n"
     ]
    }
   ],
   "source": [
    "import pandas as pd\n",
    "from sklearn import metrics\n",
    "from sklearn import tree\n",
    "from sklearn.model_selection import train_test_split\n",
    "import pickle\n",
    "from sklearn.model_selection import cross_val_score\n",
    "from sklearn.model_selection import GridSearchCV, RandomizedSearchCV\n",
    "from sklearn.metrics import f1_score, make_scorer\n",
    "%load_ext autoreload\n",
    "%reload_ext autoreload\n",
    "%autoreload 2\n",
    "from utilities import *\n",
    "import seaborn as sns\n",
    "import matplotlib.pyplot as plt"
   ]
  },
  {
   "cell_type": "markdown",
   "metadata": {},
   "source": [
    "## global vars"
   ]
  },
  {
   "cell_type": "code",
   "execution_count": 2,
   "metadata": {},
   "outputs": [],
   "source": [
    "TEST_SIZE=0.2"
   ]
  },
  {
   "cell_type": "markdown",
   "metadata": {},
   "source": [
    "## read the training data\n"
   ]
  },
  {
   "cell_type": "code",
   "execution_count": 3,
   "metadata": {},
   "outputs": [
    {
     "data": {
      "text/html": [
       "<div>\n",
       "<style scoped>\n",
       "    .dataframe tbody tr th:only-of-type {\n",
       "        vertical-align: middle;\n",
       "    }\n",
       "\n",
       "    .dataframe tbody tr th {\n",
       "        vertical-align: top;\n",
       "    }\n",
       "\n",
       "    .dataframe thead th {\n",
       "        text-align: right;\n",
       "    }\n",
       "</style>\n",
       "<table border=\"1\" class=\"dataframe\">\n",
       "  <thead>\n",
       "    <tr style=\"text-align: right;\">\n",
       "      <th></th>\n",
       "      <th>gameId</th>\n",
       "      <th>blueWins</th>\n",
       "      <th>blueWardsPlaced</th>\n",
       "      <th>blueWardsDestroyed</th>\n",
       "      <th>blueFirstBlood</th>\n",
       "      <th>blueKills</th>\n",
       "      <th>blueDeaths</th>\n",
       "      <th>blueAssists</th>\n",
       "      <th>blueEliteMonsters</th>\n",
       "      <th>blueDragons</th>\n",
       "      <th>...</th>\n",
       "      <th>redTowersDestroyed</th>\n",
       "      <th>redTotalGold</th>\n",
       "      <th>redAvgLevel</th>\n",
       "      <th>redTotalExperience</th>\n",
       "      <th>redTotalMinionsKilled</th>\n",
       "      <th>redTotalJungleMinionsKilled</th>\n",
       "      <th>redGoldDiff</th>\n",
       "      <th>redExperienceDiff</th>\n",
       "      <th>redCSPerMin</th>\n",
       "      <th>redGoldPerMin</th>\n",
       "    </tr>\n",
       "  </thead>\n",
       "  <tbody>\n",
       "    <tr>\n",
       "      <th>0</th>\n",
       "      <td>4521252780</td>\n",
       "      <td>1</td>\n",
       "      <td>11</td>\n",
       "      <td>2</td>\n",
       "      <td>0</td>\n",
       "      <td>5</td>\n",
       "      <td>5</td>\n",
       "      <td>1</td>\n",
       "      <td>0</td>\n",
       "      <td>0</td>\n",
       "      <td>...</td>\n",
       "      <td>0</td>\n",
       "      <td>15521</td>\n",
       "      <td>6.8</td>\n",
       "      <td>18175</td>\n",
       "      <td>222</td>\n",
       "      <td>48</td>\n",
       "      <td>-544</td>\n",
       "      <td>-2063</td>\n",
       "      <td>22.2</td>\n",
       "      <td>1552.1</td>\n",
       "    </tr>\n",
       "    <tr>\n",
       "      <th>1</th>\n",
       "      <td>4516789805</td>\n",
       "      <td>1</td>\n",
       "      <td>17</td>\n",
       "      <td>2</td>\n",
       "      <td>0</td>\n",
       "      <td>9</td>\n",
       "      <td>4</td>\n",
       "      <td>8</td>\n",
       "      <td>1</td>\n",
       "      <td>0</td>\n",
       "      <td>...</td>\n",
       "      <td>0</td>\n",
       "      <td>15946</td>\n",
       "      <td>6.6</td>\n",
       "      <td>17106</td>\n",
       "      <td>230</td>\n",
       "      <td>52</td>\n",
       "      <td>-3538</td>\n",
       "      <td>-2904</td>\n",
       "      <td>23.0</td>\n",
       "      <td>1594.6</td>\n",
       "    </tr>\n",
       "    <tr>\n",
       "      <th>2</th>\n",
       "      <td>4517546735</td>\n",
       "      <td>1</td>\n",
       "      <td>85</td>\n",
       "      <td>6</td>\n",
       "      <td>1</td>\n",
       "      <td>9</td>\n",
       "      <td>1</td>\n",
       "      <td>11</td>\n",
       "      <td>1</td>\n",
       "      <td>1</td>\n",
       "      <td>...</td>\n",
       "      <td>0</td>\n",
       "      <td>13584</td>\n",
       "      <td>7.0</td>\n",
       "      <td>17661</td>\n",
       "      <td>217</td>\n",
       "      <td>42</td>\n",
       "      <td>-5240</td>\n",
       "      <td>-2335</td>\n",
       "      <td>21.7</td>\n",
       "      <td>1358.4</td>\n",
       "    </tr>\n",
       "    <tr>\n",
       "      <th>3</th>\n",
       "      <td>4508668617</td>\n",
       "      <td>0</td>\n",
       "      <td>17</td>\n",
       "      <td>3</td>\n",
       "      <td>0</td>\n",
       "      <td>6</td>\n",
       "      <td>4</td>\n",
       "      <td>8</td>\n",
       "      <td>0</td>\n",
       "      <td>0</td>\n",
       "      <td>...</td>\n",
       "      <td>0</td>\n",
       "      <td>15036</td>\n",
       "      <td>6.8</td>\n",
       "      <td>17006</td>\n",
       "      <td>225</td>\n",
       "      <td>40</td>\n",
       "      <td>-1954</td>\n",
       "      <td>-1045</td>\n",
       "      <td>22.5</td>\n",
       "      <td>1503.6</td>\n",
       "    </tr>\n",
       "    <tr>\n",
       "      <th>4</th>\n",
       "      <td>4462493939</td>\n",
       "      <td>0</td>\n",
       "      <td>16</td>\n",
       "      <td>2</td>\n",
       "      <td>0</td>\n",
       "      <td>8</td>\n",
       "      <td>9</td>\n",
       "      <td>8</td>\n",
       "      <td>0</td>\n",
       "      <td>0</td>\n",
       "      <td>...</td>\n",
       "      <td>0</td>\n",
       "      <td>18704</td>\n",
       "      <td>7.2</td>\n",
       "      <td>19776</td>\n",
       "      <td>226</td>\n",
       "      <td>52</td>\n",
       "      <td>1720</td>\n",
       "      <td>1376</td>\n",
       "      <td>22.6</td>\n",
       "      <td>1870.4</td>\n",
       "    </tr>\n",
       "  </tbody>\n",
       "</table>\n",
       "<p>5 rows × 40 columns</p>\n",
       "</div>"
      ],
      "text/plain": [
       "       gameId  blueWins  blueWardsPlaced  blueWardsDestroyed  blueFirstBlood  \\\n",
       "0  4521252780         1               11                   2               0   \n",
       "1  4516789805         1               17                   2               0   \n",
       "2  4517546735         1               85                   6               1   \n",
       "3  4508668617         0               17                   3               0   \n",
       "4  4462493939         0               16                   2               0   \n",
       "\n",
       "   blueKills  blueDeaths  blueAssists  blueEliteMonsters  blueDragons  ...  \\\n",
       "0          5           5            1                  0            0  ...   \n",
       "1          9           4            8                  1            0  ...   \n",
       "2          9           1           11                  1            1  ...   \n",
       "3          6           4            8                  0            0  ...   \n",
       "4          8           9            8                  0            0  ...   \n",
       "\n",
       "   redTowersDestroyed  redTotalGold  redAvgLevel  redTotalExperience  \\\n",
       "0                   0         15521          6.8               18175   \n",
       "1                   0         15946          6.6               17106   \n",
       "2                   0         13584          7.0               17661   \n",
       "3                   0         15036          6.8               17006   \n",
       "4                   0         18704          7.2               19776   \n",
       "\n",
       "   redTotalMinionsKilled  redTotalJungleMinionsKilled  redGoldDiff  \\\n",
       "0                    222                           48         -544   \n",
       "1                    230                           52        -3538   \n",
       "2                    217                           42        -5240   \n",
       "3                    225                           40        -1954   \n",
       "4                    226                           52         1720   \n",
       "\n",
       "   redExperienceDiff  redCSPerMin  redGoldPerMin  \n",
       "0              -2063         22.2         1552.1  \n",
       "1              -2904         23.0         1594.6  \n",
       "2              -2335         21.7         1358.4  \n",
       "3              -1045         22.5         1503.6  \n",
       "4               1376         22.6         1870.4  \n",
       "\n",
       "[5 rows x 40 columns]"
      ]
     },
     "execution_count": 3,
     "metadata": {},
     "output_type": "execute_result"
    }
   ],
   "source": [
    "data = pd.read_csv(\"train/train.csv\").dropna()\n",
    "data.head()"
   ]
  },
  {
   "cell_type": "code",
   "execution_count": 37,
   "metadata": {},
   "outputs": [
    {
     "data": {
      "text/html": [
       "<div>\n",
       "<style scoped>\n",
       "    .dataframe tbody tr th:only-of-type {\n",
       "        vertical-align: middle;\n",
       "    }\n",
       "\n",
       "    .dataframe tbody tr th {\n",
       "        vertical-align: top;\n",
       "    }\n",
       "\n",
       "    .dataframe thead th {\n",
       "        text-align: right;\n",
       "    }\n",
       "</style>\n",
       "<table border=\"1\" class=\"dataframe\">\n",
       "  <thead>\n",
       "    <tr style=\"text-align: right;\">\n",
       "      <th></th>\n",
       "      <th>gameId</th>\n",
       "      <th>blueWins</th>\n",
       "      <th>blueWardsPlaced</th>\n",
       "      <th>blueWardsDestroyed</th>\n",
       "      <th>blueFirstBlood</th>\n",
       "      <th>blueKills</th>\n",
       "      <th>blueDeaths</th>\n",
       "      <th>blueAssists</th>\n",
       "      <th>blueEliteMonsters</th>\n",
       "      <th>blueDragons</th>\n",
       "      <th>...</th>\n",
       "      <th>redTowersDestroyed</th>\n",
       "      <th>redTotalGold</th>\n",
       "      <th>redAvgLevel</th>\n",
       "      <th>redTotalExperience</th>\n",
       "      <th>redTotalMinionsKilled</th>\n",
       "      <th>redTotalJungleMinionsKilled</th>\n",
       "      <th>redGoldDiff</th>\n",
       "      <th>redExperienceDiff</th>\n",
       "      <th>redCSPerMin</th>\n",
       "      <th>redGoldPerMin</th>\n",
       "    </tr>\n",
       "  </thead>\n",
       "  <tbody>\n",
       "    <tr>\n",
       "      <th>count</th>\n",
       "      <td>7.903000e+03</td>\n",
       "      <td>7903.000000</td>\n",
       "      <td>7903.000000</td>\n",
       "      <td>7903.000000</td>\n",
       "      <td>7903.000000</td>\n",
       "      <td>7903.000000</td>\n",
       "      <td>7903.000000</td>\n",
       "      <td>7903.000000</td>\n",
       "      <td>7903.000000</td>\n",
       "      <td>7903.000000</td>\n",
       "      <td>...</td>\n",
       "      <td>7903.000000</td>\n",
       "      <td>7903.000000</td>\n",
       "      <td>7903.000000</td>\n",
       "      <td>7903.000000</td>\n",
       "      <td>7903.000000</td>\n",
       "      <td>7903.000000</td>\n",
       "      <td>7903.000000</td>\n",
       "      <td>7903.000000</td>\n",
       "      <td>7903.000000</td>\n",
       "      <td>7903.000000</td>\n",
       "    </tr>\n",
       "    <tr>\n",
       "      <th>mean</th>\n",
       "      <td>4.499943e+09</td>\n",
       "      <td>0.497786</td>\n",
       "      <td>22.153992</td>\n",
       "      <td>2.830824</td>\n",
       "      <td>0.505251</td>\n",
       "      <td>6.172466</td>\n",
       "      <td>6.127547</td>\n",
       "      <td>6.652410</td>\n",
       "      <td>0.546248</td>\n",
       "      <td>0.360369</td>\n",
       "      <td>...</td>\n",
       "      <td>0.042262</td>\n",
       "      <td>16481.460205</td>\n",
       "      <td>6.925117</td>\n",
       "      <td>17957.448943</td>\n",
       "      <td>217.309882</td>\n",
       "      <td>51.280020</td>\n",
       "      <td>-19.029862</td>\n",
       "      <td>35.057320</td>\n",
       "      <td>21.730988</td>\n",
       "      <td>1648.146020</td>\n",
       "    </tr>\n",
       "    <tr>\n",
       "      <th>std</th>\n",
       "      <td>2.784372e+07</td>\n",
       "      <td>0.500027</td>\n",
       "      <td>17.720187</td>\n",
       "      <td>2.196290</td>\n",
       "      <td>0.500004</td>\n",
       "      <td>2.995904</td>\n",
       "      <td>2.931458</td>\n",
       "      <td>4.060479</td>\n",
       "      <td>0.626429</td>\n",
       "      <td>0.480138</td>\n",
       "      <td>...</td>\n",
       "      <td>0.214592</td>\n",
       "      <td>1491.704158</td>\n",
       "      <td>0.303919</td>\n",
       "      <td>1193.670605</td>\n",
       "      <td>21.920152</td>\n",
       "      <td>10.038507</td>\n",
       "      <td>2435.822605</td>\n",
       "      <td>1900.044215</td>\n",
       "      <td>2.192015</td>\n",
       "      <td>149.170416</td>\n",
       "    </tr>\n",
       "    <tr>\n",
       "      <th>min</th>\n",
       "      <td>4.295358e+09</td>\n",
       "      <td>0.000000</td>\n",
       "      <td>8.000000</td>\n",
       "      <td>0.000000</td>\n",
       "      <td>0.000000</td>\n",
       "      <td>0.000000</td>\n",
       "      <td>0.000000</td>\n",
       "      <td>0.000000</td>\n",
       "      <td>0.000000</td>\n",
       "      <td>0.000000</td>\n",
       "      <td>...</td>\n",
       "      <td>0.000000</td>\n",
       "      <td>11212.000000</td>\n",
       "      <td>4.800000</td>\n",
       "      <td>10465.000000</td>\n",
       "      <td>107.000000</td>\n",
       "      <td>4.000000</td>\n",
       "      <td>-11467.000000</td>\n",
       "      <td>-8265.000000</td>\n",
       "      <td>10.700000</td>\n",
       "      <td>1121.200000</td>\n",
       "    </tr>\n",
       "    <tr>\n",
       "      <th>25%</th>\n",
       "      <td>4.482544e+09</td>\n",
       "      <td>0.000000</td>\n",
       "      <td>14.000000</td>\n",
       "      <td>1.000000</td>\n",
       "      <td>0.000000</td>\n",
       "      <td>4.000000</td>\n",
       "      <td>4.000000</td>\n",
       "      <td>4.000000</td>\n",
       "      <td>0.000000</td>\n",
       "      <td>0.000000</td>\n",
       "      <td>...</td>\n",
       "      <td>0.000000</td>\n",
       "      <td>15419.000000</td>\n",
       "      <td>6.800000</td>\n",
       "      <td>17206.000000</td>\n",
       "      <td>203.000000</td>\n",
       "      <td>44.000000</td>\n",
       "      <td>-1583.000000</td>\n",
       "      <td>-1197.500000</td>\n",
       "      <td>20.300000</td>\n",
       "      <td>1541.900000</td>\n",
       "    </tr>\n",
       "    <tr>\n",
       "      <th>50%</th>\n",
       "      <td>4.510838e+09</td>\n",
       "      <td>0.000000</td>\n",
       "      <td>16.000000</td>\n",
       "      <td>3.000000</td>\n",
       "      <td>1.000000</td>\n",
       "      <td>6.000000</td>\n",
       "      <td>6.000000</td>\n",
       "      <td>6.000000</td>\n",
       "      <td>0.000000</td>\n",
       "      <td>0.000000</td>\n",
       "      <td>...</td>\n",
       "      <td>0.000000</td>\n",
       "      <td>16370.000000</td>\n",
       "      <td>7.000000</td>\n",
       "      <td>17958.000000</td>\n",
       "      <td>218.000000</td>\n",
       "      <td>51.000000</td>\n",
       "      <td>-26.000000</td>\n",
       "      <td>26.000000</td>\n",
       "      <td>21.800000</td>\n",
       "      <td>1637.000000</td>\n",
       "    </tr>\n",
       "    <tr>\n",
       "      <th>75%</th>\n",
       "      <td>4.521685e+09</td>\n",
       "      <td>1.000000</td>\n",
       "      <td>20.000000</td>\n",
       "      <td>4.000000</td>\n",
       "      <td>1.000000</td>\n",
       "      <td>8.000000</td>\n",
       "      <td>8.000000</td>\n",
       "      <td>9.000000</td>\n",
       "      <td>1.000000</td>\n",
       "      <td>1.000000</td>\n",
       "      <td>...</td>\n",
       "      <td>0.000000</td>\n",
       "      <td>17419.000000</td>\n",
       "      <td>7.200000</td>\n",
       "      <td>18760.000000</td>\n",
       "      <td>233.000000</td>\n",
       "      <td>57.000000</td>\n",
       "      <td>1566.500000</td>\n",
       "      <td>1276.000000</td>\n",
       "      <td>23.300000</td>\n",
       "      <td>1741.900000</td>\n",
       "    </tr>\n",
       "    <tr>\n",
       "      <th>max</th>\n",
       "      <td>4.527991e+09</td>\n",
       "      <td>1.000000</td>\n",
       "      <td>250.000000</td>\n",
       "      <td>27.000000</td>\n",
       "      <td>1.000000</td>\n",
       "      <td>22.000000</td>\n",
       "      <td>19.000000</td>\n",
       "      <td>29.000000</td>\n",
       "      <td>2.000000</td>\n",
       "      <td>1.000000</td>\n",
       "      <td>...</td>\n",
       "      <td>2.000000</td>\n",
       "      <td>22732.000000</td>\n",
       "      <td>8.200000</td>\n",
       "      <td>22269.000000</td>\n",
       "      <td>289.000000</td>\n",
       "      <td>92.000000</td>\n",
       "      <td>10830.000000</td>\n",
       "      <td>9333.000000</td>\n",
       "      <td>28.900000</td>\n",
       "      <td>2273.200000</td>\n",
       "    </tr>\n",
       "  </tbody>\n",
       "</table>\n",
       "<p>8 rows × 40 columns</p>\n",
       "</div>"
      ],
      "text/plain": [
       "             gameId     blueWins  blueWardsPlaced  blueWardsDestroyed  \\\n",
       "count  7.903000e+03  7903.000000      7903.000000         7903.000000   \n",
       "mean   4.499943e+09     0.497786        22.153992            2.830824   \n",
       "std    2.784372e+07     0.500027        17.720187            2.196290   \n",
       "min    4.295358e+09     0.000000         8.000000            0.000000   \n",
       "25%    4.482544e+09     0.000000        14.000000            1.000000   \n",
       "50%    4.510838e+09     0.000000        16.000000            3.000000   \n",
       "75%    4.521685e+09     1.000000        20.000000            4.000000   \n",
       "max    4.527991e+09     1.000000       250.000000           27.000000   \n",
       "\n",
       "       blueFirstBlood    blueKills   blueDeaths  blueAssists  \\\n",
       "count     7903.000000  7903.000000  7903.000000  7903.000000   \n",
       "mean         0.505251     6.172466     6.127547     6.652410   \n",
       "std          0.500004     2.995904     2.931458     4.060479   \n",
       "min          0.000000     0.000000     0.000000     0.000000   \n",
       "25%          0.000000     4.000000     4.000000     4.000000   \n",
       "50%          1.000000     6.000000     6.000000     6.000000   \n",
       "75%          1.000000     8.000000     8.000000     9.000000   \n",
       "max          1.000000    22.000000    19.000000    29.000000   \n",
       "\n",
       "       blueEliteMonsters  blueDragons  ...  redTowersDestroyed  redTotalGold  \\\n",
       "count        7903.000000  7903.000000  ...         7903.000000   7903.000000   \n",
       "mean            0.546248     0.360369  ...            0.042262  16481.460205   \n",
       "std             0.626429     0.480138  ...            0.214592   1491.704158   \n",
       "min             0.000000     0.000000  ...            0.000000  11212.000000   \n",
       "25%             0.000000     0.000000  ...            0.000000  15419.000000   \n",
       "50%             0.000000     0.000000  ...            0.000000  16370.000000   \n",
       "75%             1.000000     1.000000  ...            0.000000  17419.000000   \n",
       "max             2.000000     1.000000  ...            2.000000  22732.000000   \n",
       "\n",
       "       redAvgLevel  redTotalExperience  redTotalMinionsKilled  \\\n",
       "count  7903.000000         7903.000000            7903.000000   \n",
       "mean      6.925117        17957.448943             217.309882   \n",
       "std       0.303919         1193.670605              21.920152   \n",
       "min       4.800000        10465.000000             107.000000   \n",
       "25%       6.800000        17206.000000             203.000000   \n",
       "50%       7.000000        17958.000000             218.000000   \n",
       "75%       7.200000        18760.000000             233.000000   \n",
       "max       8.200000        22269.000000             289.000000   \n",
       "\n",
       "       redTotalJungleMinionsKilled   redGoldDiff  redExperienceDiff  \\\n",
       "count                  7903.000000   7903.000000        7903.000000   \n",
       "mean                     51.280020    -19.029862          35.057320   \n",
       "std                      10.038507   2435.822605        1900.044215   \n",
       "min                       4.000000 -11467.000000       -8265.000000   \n",
       "25%                      44.000000  -1583.000000       -1197.500000   \n",
       "50%                      51.000000    -26.000000          26.000000   \n",
       "75%                      57.000000   1566.500000        1276.000000   \n",
       "max                      92.000000  10830.000000        9333.000000   \n",
       "\n",
       "       redCSPerMin  redGoldPerMin  \n",
       "count  7903.000000    7903.000000  \n",
       "mean     21.730988    1648.146020  \n",
       "std       2.192015     149.170416  \n",
       "min      10.700000    1121.200000  \n",
       "25%      20.300000    1541.900000  \n",
       "50%      21.800000    1637.000000  \n",
       "75%      23.300000    1741.900000  \n",
       "max      28.900000    2273.200000  \n",
       "\n",
       "[8 rows x 40 columns]"
      ]
     },
     "execution_count": 37,
     "metadata": {},
     "output_type": "execute_result"
    }
   ],
   "source": [
    "data.describe()"
   ]
  },
  {
   "cell_type": "code",
   "execution_count": 4,
   "metadata": {},
   "outputs": [],
   "source": [
    "X,y = separate_feature_label(data, \"blueWins\")"
   ]
  },
  {
   "cell_type": "markdown",
   "metadata": {},
   "source": [
    "## preprocessing and analysis"
   ]
  },
  {
   "cell_type": "markdown",
   "metadata": {},
   "source": [
    "### get the attributes with low correlation only\n"
   ]
  },
  {
   "cell_type": "markdown",
   "metadata": {},
   "source": []
  },
  {
   "cell_type": "code",
   "execution_count": 14,
   "metadata": {},
   "outputs": [
    {
     "data": {
      "text/plain": [
       "<AxesSubplot:>"
      ]
     },
     "execution_count": 14,
     "metadata": {},
     "output_type": "execute_result"
    },
    {
     "data": {
      "image/png": "[encoded data removed]",
      "text/plain": [
       "<Figure size 432x288 with 2 Axes>"
      ]
     },
     "metadata": {
      "needs_background": "light"
     },
     "output_type": "display_data"
    }
   ],
   "source": [
    "\n",
    "sns.heatmap(X.corr())"
   ]
  },
  {
   "cell_type": "code",
   "execution_count": 6,
   "metadata": {},
   "outputs": [],
   "source": [
    "corrTable = X.corr()\n",
    "cols = X.columns"
   ]
  },
  {
   "cell_type": "code",
   "execution_count": 7,
   "metadata": {},
   "outputs": [
    {
     "name": "stdout",
     "output_type": "stream",
     "text": [
      "29\n"
     ]
    }
   ],
   "source": [
    "newCols = []\n",
    "for i in cols:\n",
    "    for j in cols:\n",
    "        if( i!=j and abs(corrTable[i][j])<0.01 ):\n",
    "            newCols.append(j)\n",
    "newCols = list( pd.Series(newCols).unique() )\n",
    "print( len(newCols) )\n",
    "X = X[newCols]"
   ]
  },
  {
   "cell_type": "code",
   "execution_count": 8,
   "metadata": {},
   "outputs": [
    {
     "data": {
      "text/plain": [
       "['blueKills',\n",
       " 'blueTotalGold',\n",
       " 'blueGoldDiff',\n",
       " 'blueExperienceDiff',\n",
       " 'blueGoldPerMin',\n",
       " 'redDeaths',\n",
       " 'redEliteMonsters',\n",
       " 'redDragons',\n",
       " 'redGoldDiff',\n",
       " 'redExperienceDiff']"
      ]
     },
     "execution_count": 8,
     "metadata": {},
     "output_type": "execute_result"
    }
   ],
   "source": [
    "len(cols) , len(newCols)\n",
    "diff_col = [col for col in cols if col not in newCols]\n",
    "diff_col"
   ]
  },
  {
   "cell_type": "markdown",
   "metadata": {},
   "source": [
    "## remove the outliers\n"
   ]
  },
  {
   "cell_type": "code",
   "execution_count": 16,
   "metadata": {},
   "outputs": [
    {
     "data": {
      "text/plain": [
       "29"
      ]
     },
     "execution_count": 16,
     "metadata": {},
     "output_type": "execute_result"
    }
   ],
   "source": [
    "len(newCols)"
   ]
  },
  {
   "cell_type": "code",
   "execution_count": 28,
   "metadata": {},
   "outputs": [],
   "source": [
    "# fig, axes = plt.subplots(2, 3, figsize=(18, 10))\n",
    "\n",
    "# for i, col in enumerate(newCols):\n",
    "#     plt.figure()\n",
    "#     sns.boxplot(x=X[col])"
   ]
  },
  {
   "cell_type": "code",
   "execution_count": 36,
   "metadata": {},
   "outputs": [
    {
     "data": {
      "image/png": "[encoded data removed]",
      "text/plain": [
       "<Figure size 1296x720 with 30 Axes>"
      ]
     },
     "metadata": {
      "needs_background": "light"
     },
     "output_type": "display_data"
    }
   ],
   "source": [
    "fig, axes = plt.subplots(5, 6, figsize=(18, 10),constrained_layout=True)\n",
    "\n",
    "fig.suptitle('Lol Whisker Plot')\n",
    "# plt.figure(figsize=(20, 10), dpi=80)\n",
    "# let's do a 30 plots\n",
    "for i, col in enumerate(newCols):\n",
    "    sns.boxplot(ax=axes[i//6, i - (i//6)*6], data=X, y=newCols[i])\n",
    "    \n"
   ]
  },
  {
   "cell_type": "markdown",
   "metadata": {},
   "source": [
    "### inital model\n"
   ]
  },
  {
   "cell_type": "code",
   "execution_count": 12,
   "metadata": {},
   "outputs": [],
   "source": [
    "\n",
    "treeClassifier = tree.DecisionTreeClassifier(\n",
    "    min_samples_leaf=100, max_depth=10\n",
    ")\n",
    "X_train, X_test, y_train, y_test =train_test_split( X, y, test_size=TEST_SIZE, random_state=42)\n"
   ]
  },
  {
   "cell_type": "markdown",
   "metadata": {},
   "source": [
    "### parameter tuning and validation\n"
   ]
  },
  {
   "cell_type": "code",
   "execution_count": 13,
   "metadata": {},
   "outputs": [
    {
     "name": "stdout",
     "output_type": "stream",
     "text": [
      "Accuracy for tree classifier: 0.7115749525616698\n"
     ]
    }
   ],
   "source": [
    "parameters = {'max_depth':[10,11,12,20], \n",
    "              'min_samples_leaf':[50,100,150], \n",
    "              'min_samples_split':[10,50,100,150,200,250],\n",
    "              'criterion' : ['gini','entropy']}\n",
    "scorer = make_scorer(f1_score)\n",
    "\n",
    "search_obj = RandomizedSearchCV(treeClassifier, parameters, scoring=scorer)\n",
    "fit_obj = search_obj.fit(X_train, y_train)\n",
    "best_clf = fit_obj.best_estimator_\n",
    "\n",
    "print( \"Accuracy for tree classifier: \"+str( metrics.accuracy_score(y_test, best_clf.predict(X_test)) ) )\n"
   ]
  },
  {
   "cell_type": "code",
   "execution_count": 14,
   "metadata": {},
   "outputs": [
    {
     "name": "stdout",
     "output_type": "stream",
     "text": [
      "Accuracy for tree classifier: 0.7130566801619433\n"
     ]
    }
   ],
   "source": [
    "test_this_model(best_clf, newCols)"
   ]
  },
  {
   "cell_type": "markdown",
   "metadata": {},
   "source": [
    "## final classifier"
   ]
  },
  {
   "cell_type": "code",
   "execution_count": 15,
   "metadata": {},
   "outputs": [],
   "source": [
    "treeClassifier = best_clf"
   ]
  },
  {
   "cell_type": "code",
   "execution_count": 16,
   "metadata": {},
   "outputs": [
    {
     "data": {
      "text/plain": [
       "[Text(0.4554794520547945, 0.9444444444444444, 'X[16] <= 1576.85\\nentropy = 1.0\\nsamples = 6322\\nvalue = [3161, 3161]'),\n",
       " Text(0.1952054794520548, 0.8333333333333334, 'X[26] <= 18651.5\\nentropy = 0.822\\nsamples = 2086\\nvalue = [536, 1550]'),\n",
       " Text(0.1095890410958904, 0.7222222222222222, 'X[23] <= 16909.0\\nentropy = 0.926\\nsamples = 1167\\nvalue = [398, 769]'),\n",
       " Text(0.0547945205479452, 0.6111111111111112, 'X[26] <= 17813.5\\nentropy = 0.754\\nsamples = 434\\nvalue = [94, 340]'),\n",
       " Text(0.0273972602739726, 0.5, 'X[16] <= 1491.35\\nentropy = 0.906\\nsamples = 202\\nvalue = [65, 137]'),\n",
       " Text(0.0136986301369863, 0.3888888888888889, 'entropy = 0.778\\nsamples = 100\\nvalue = [23, 77]'),\n",
       " Text(0.0410958904109589, 0.3888888888888889, 'entropy = 0.977\\nsamples = 102\\nvalue = [42, 60]'),\n",
       " Text(0.0821917808219178, 0.5, 'X[2] <= 0.5\\nentropy = 0.544\\nsamples = 232\\nvalue = [29, 203]'),\n",
       " Text(0.0684931506849315, 0.3888888888888889, 'entropy = 0.704\\nsamples = 115\\nvalue = [22, 93]'),\n",
       " Text(0.0958904109589041, 0.3888888888888889, 'entropy = 0.327\\nsamples = 117\\nvalue = [7, 110]'),\n",
       " Text(0.1643835616438356, 0.6111111111111112, 'X[2] <= 0.5\\nentropy = 0.979\\nsamples = 733\\nvalue = [304, 429]'),\n",
       " Text(0.136986301369863, 0.5, 'X[23] <= 18002.5\\nentropy = 1.0\\nsamples = 435\\nvalue = [216, 219]'),\n",
       " Text(0.1232876712328767, 0.3888888888888889, 'X[19] <= 0.5\\nentropy = 0.982\\nsamples = 299\\nvalue = [126, 173]'),\n",
       " Text(0.1095890410958904, 0.2777777777777778, 'entropy = 0.938\\nsamples = 175\\nvalue = [62, 113]'),\n",
       " Text(0.136986301369863, 0.2777777777777778, 'entropy = 0.999\\nsamples = 124\\nvalue = [64, 60]'),\n",
       " Text(0.1506849315068493, 0.3888888888888889, 'entropy = 0.923\\nsamples = 136\\nvalue = [90, 46]'),\n",
       " Text(0.1917808219178082, 0.5, 'X[23] <= 17933.0\\nentropy = 0.875\\nsamples = 298\\nvalue = [88, 210]'),\n",
       " Text(0.1780821917808219, 0.3888888888888889, 'entropy = 0.803\\nsamples = 196\\nvalue = [48, 148]'),\n",
       " Text(0.2054794520547945, 0.3888888888888889, 'entropy = 0.966\\nsamples = 102\\nvalue = [40, 62]'),\n",
       " Text(0.2808219178082192, 0.7222222222222222, 'X[16] <= 1469.65\\nentropy = 0.61\\nsamples = 919\\nvalue = [138, 781]'),\n",
       " Text(0.2328767123287671, 0.6111111111111112, 'X[17] <= 4492551168.0\\nentropy = 0.375\\nsamples = 372\\nvalue = [27, 345]'),\n",
       " Text(0.2191780821917808, 0.5, 'entropy = 0.57\\nsamples = 104\\nvalue = [14, 90]'),\n",
       " Text(0.2465753424657534, 0.5, 'X[26] <= 19350.0\\nentropy = 0.28\\nsamples = 268\\nvalue = [13, 255]'),\n",
       " Text(0.2328767123287671, 0.3888888888888889, 'entropy = 0.387\\nsamples = 132\\nvalue = [10, 122]'),\n",
       " Text(0.2602739726027397, 0.3888888888888889, 'entropy = 0.153\\nsamples = 136\\nvalue = [3, 133]'),\n",
       " Text(0.3287671232876712, 0.6111111111111112, 'X[26] <= 19220.5\\nentropy = 0.728\\nsamples = 547\\nvalue = [111, 436]'),\n",
       " Text(0.3013698630136986, 0.5, 'X[14] <= 50.5\\nentropy = 0.871\\nsamples = 240\\nvalue = [70, 170]'),\n",
       " Text(0.2876712328767123, 0.3888888888888889, 'entropy = 0.768\\nsamples = 116\\nvalue = [26, 90]'),\n",
       " Text(0.3150684931506849, 0.3888888888888889, 'entropy = 0.938\\nsamples = 124\\nvalue = [44, 80]'),\n",
       " Text(0.3561643835616438, 0.5, 'X[23] <= 17303.5\\nentropy = 0.567\\nsamples = 307\\nvalue = [41, 266]'),\n",
       " Text(0.3424657534246575, 0.3888888888888889, 'entropy = 0.398\\nsamples = 152\\nvalue = [12, 140]'),\n",
       " Text(0.3698630136986301, 0.3888888888888889, 'entropy = 0.695\\nsamples = 155\\nvalue = [29, 126]'),\n",
       " Text(0.7157534246575342, 0.8333333333333334, 'X[26] <= 17737.5\\nentropy = 0.958\\nsamples = 4236\\nvalue = [2625, 1611]'),\n",
       " Text(0.5256849315068494, 0.7222222222222222, 'X[23] <= 18217.0\\nentropy = 0.819\\nsamples = 2225\\nvalue = [1658, 567]'),\n",
       " Text(0.4452054794520548, 0.6111111111111112, 'X[23] <= 17249.0\\nentropy = 0.958\\nsamples = 898\\nvalue = [557, 341]'),\n",
       " Text(0.410958904109589, 0.5, 'X[16] <= 1648.0\\nentropy = 0.998\\nsamples = 255\\nvalue = [120, 135]'),\n",
       " Text(0.3972602739726027, 0.3888888888888889, 'entropy = 0.964\\nsamples = 121\\nvalue = [47, 74]'),\n",
       " Text(0.4246575342465753, 0.3888888888888889, 'entropy = 0.994\\nsamples = 134\\nvalue = [73, 61]'),\n",
       " Text(0.4794520547945205, 0.5, 'X[28] <= 6.5\\nentropy = 0.905\\nsamples = 643\\nvalue = [437, 206]'),\n",
       " Text(0.4520547945205479, 0.3888888888888889, 'X[17] <= 4515566080.0\\nentropy = 0.823\\nsamples = 373\\nvalue = [277, 96]'),\n",
       " Text(0.4383561643835616, 0.2777777777777778, 'X[0] <= 16.5\\nentropy = 0.701\\nsamples = 211\\nvalue = [171, 40]'),\n",
       " Text(0.4246575342465753, 0.16666666666666666, 'entropy = 0.796\\nsamples = 108\\nvalue = [82, 26]'),\n",
       " Text(0.4520547945205479, 0.16666666666666666, 'entropy = 0.573\\nsamples = 103\\nvalue = [89, 14]'),\n",
       " Text(0.4657534246575342, 0.2777777777777778, 'entropy = 0.93\\nsamples = 162\\nvalue = [106, 56]'),\n",
       " Text(0.5068493150684932, 0.3888888888888889, 'X[27] <= 0.5\\nentropy = 0.975\\nsamples = 270\\nvalue = [160, 110]'),\n",
       " Text(0.4931506849315068, 0.2777777777777778, 'entropy = 0.927\\nsamples = 155\\nvalue = [102, 53]'),\n",
       " Text(0.5205479452054794, 0.2777777777777778, 'entropy = 1.0\\nsamples = 115\\nvalue = [58, 57]'),\n",
       " Text(0.6061643835616438, 0.6111111111111112, 'X[26] <= 16634.5\\nentropy = 0.658\\nsamples = 1327\\nvalue = [1101, 226]'),\n",
       " Text(0.547945205479452, 0.5, 'X[26] <= 15786.5\\nentropy = 0.418\\nsamples = 496\\nvalue = [454, 42]'),\n",
       " Text(0.5342465753424658, 0.3888888888888889, 'entropy = 0.147\\nsamples = 143\\nvalue = [140, 3]'),\n",
       " Text(0.5616438356164384, 0.3888888888888889, 'X[28] <= 3.5\\nentropy = 0.501\\nsamples = 353\\nvalue = [314, 39]'),\n",
       " Text(0.547945205479452, 0.2777777777777778, 'entropy = 0.288\\nsamples = 179\\nvalue = [170, 9]'),\n",
       " Text(0.5753424657534246, 0.2777777777777778, 'entropy = 0.663\\nsamples = 174\\nvalue = [144, 30]'),\n",
       " Text(0.6643835616438356, 0.5, 'X[23] <= 19380.5\\nentropy = 0.763\\nsamples = 831\\nvalue = [647, 184]'),\n",
       " Text(0.6301369863013698, 0.3888888888888889, 'X[28] <= 4.5\\nentropy = 0.845\\nsamples = 573\\nvalue = [417, 156]'),\n",
       " Text(0.6027397260273972, 0.2777777777777778, 'X[16] <= 1720.3\\nentropy = 0.706\\nsamples = 255\\nvalue = [206, 49]'),\n",
       " Text(0.589041095890411, 0.16666666666666666, 'entropy = 0.789\\nsamples = 148\\nvalue = [113, 35]'),\n",
       " Text(0.6164383561643836, 0.16666666666666666, 'entropy = 0.56\\nsamples = 107\\nvalue = [93, 14]'),\n",
       " Text(0.6575342465753424, 0.2777777777777778, 'X[23] <= 18927.5\\nentropy = 0.921\\nsamples = 318\\nvalue = [211, 107]'),\n",
       " Text(0.6438356164383562, 0.16666666666666666, 'X[8] <= 2.5\\nentropy = 0.967\\nsamples = 211\\nvalue = [128, 83]'),\n",
       " Text(0.6301369863013698, 0.05555555555555555, 'entropy = 0.997\\nsamples = 100\\nvalue = [53, 47]'),\n",
       " Text(0.6575342465753424, 0.05555555555555555, 'entropy = 0.909\\nsamples = 111\\nvalue = [75, 36]'),\n",
       " Text(0.6712328767123288, 0.16666666666666666, 'entropy = 0.768\\nsamples = 107\\nvalue = [83, 24]'),\n",
       " Text(0.6986301369863014, 0.3888888888888889, 'X[17] <= 4506086912.0\\nentropy = 0.495\\nsamples = 258\\nvalue = [230, 28]'),\n",
       " Text(0.684931506849315, 0.2777777777777778, 'entropy = 0.634\\nsamples = 125\\nvalue = [105, 20]'),\n",
       " Text(0.7123287671232876, 0.2777777777777778, 'entropy = 0.328\\nsamples = 133\\nvalue = [125, 8]'),\n",
       " Text(0.9058219178082192, 0.7222222222222222, 'X[23] <= 18567.0\\nentropy = 0.999\\nsamples = 2011\\nvalue = [967, 1044]'),\n",
       " Text(0.839041095890411, 0.6111111111111112, 'X[26] <= 18802.5\\nentropy = 0.967\\nsamples = 1254\\nvalue = [494, 760]'),\n",
       " Text(0.8013698630136986, 0.5, 'X[28] <= 10.5\\nentropy = 0.996\\nsamples = 852\\nvalue = [394, 458]'),\n",
       " Text(0.7671232876712328, 0.3888888888888889, 'X[28] <= 6.5\\nentropy = 1.0\\nsamples = 649\\nvalue = [333, 316]'),\n",
       " Text(0.7397260273972602, 0.2777777777777778, 'X[17] <= 4510811136.0\\nentropy = 0.99\\nsamples = 353\\nvalue = [197, 156]'),\n",
       " Text(0.726027397260274, 0.16666666666666666, 'entropy = 0.953\\nsamples = 158\\nvalue = [99, 59]'),\n",
       " Text(0.7534246575342466, 0.16666666666666666, 'entropy = 1.0\\nsamples = 195\\nvalue = [98, 97]'),\n",
       " Text(0.7945205479452054, 0.2777777777777778, 'X[23] <= 17835.0\\nentropy = 0.995\\nsamples = 296\\nvalue = [136, 160]'),\n",
       " Text(0.7808219178082192, 0.16666666666666666, 'entropy = 0.969\\nsamples = 149\\nvalue = [59, 90]'),\n",
       " Text(0.8082191780821918, 0.16666666666666666, 'entropy = 0.998\\nsamples = 147\\nvalue = [77, 70]'),\n",
       " Text(0.8356164383561644, 0.3888888888888889, 'X[13] <= 207.5\\nentropy = 0.882\\nsamples = 203\\nvalue = [61, 142]'),\n",
       " Text(0.821917808219178, 0.2777777777777778, 'entropy = 0.8\\nsamples = 103\\nvalue = [25, 78]'),\n",
       " Text(0.8493150684931506, 0.2777777777777778, 'entropy = 0.943\\nsamples = 100\\nvalue = [36, 64]'),\n",
       " Text(0.8767123287671232, 0.5, 'X[23] <= 17482.5\\nentropy = 0.809\\nsamples = 402\\nvalue = [100, 302]'),\n",
       " Text(0.863013698630137, 0.3888888888888889, 'entropy = 0.498\\nsamples = 137\\nvalue = [15, 122]'),\n",
       " Text(0.8904109589041096, 0.3888888888888889, 'X[2] <= 0.5\\nentropy = 0.905\\nsamples = 265\\nvalue = [85, 180]'),\n",
       " Text(0.8767123287671232, 0.2777777777777778, 'entropy = 0.961\\nsamples = 159\\nvalue = [61, 98]'),\n",
       " Text(0.9041095890410958, 0.2777777777777778, 'entropy = 0.772\\nsamples = 106\\nvalue = [24, 82]'),\n",
       " Text(0.9726027397260274, 0.6111111111111112, 'X[26] <= 18831.5\\nentropy = 0.955\\nsamples = 757\\nvalue = [473, 284]'),\n",
       " Text(0.958904109589041, 0.5, 'X[2] <= 0.5\\nentropy = 0.891\\nsamples = 565\\nvalue = [391, 174]'),\n",
       " Text(0.9452054794520548, 0.3888888888888889, 'X[23] <= 19218.5\\nentropy = 0.818\\nsamples = 389\\nvalue = [290, 99]'),\n",
       " Text(0.9315068493150684, 0.2777777777777778, 'X[14] <= 55.5\\nentropy = 0.897\\nsamples = 214\\nvalue = [147, 67]'),\n",
       " Text(0.9178082191780822, 0.16666666666666666, 'entropy = 0.939\\nsamples = 107\\nvalue = [69, 38]'),\n",
       " Text(0.9452054794520548, 0.16666666666666666, 'entropy = 0.843\\nsamples = 107\\nvalue = [78, 29]'),\n",
       " Text(0.958904109589041, 0.2777777777777778, 'entropy = 0.686\\nsamples = 175\\nvalue = [143, 32]'),\n",
       " Text(0.9726027397260274, 0.3888888888888889, 'entropy = 0.984\\nsamples = 176\\nvalue = [101, 75]'),\n",
       " Text(0.9863013698630136, 0.5, 'entropy = 0.985\\nsamples = 192\\nvalue = [82, 110]')]"
      ]
     },
     "execution_count": 16,
     "metadata": {},
     "output_type": "execute_result"
    },
    {
     "data": {
      "image/png": "[encoded data removed]",
      "text/plain": [
       "<Figure size 432x288 with 1 Axes>"
      ]
     },
     "metadata": {
      "needs_background": "light"
     },
     "output_type": "display_data"
    }
   ],
   "source": [
    "tree.plot_tree(treeClassifier)\n"
   ]
  },
  {
   "cell_type": "markdown",
   "metadata": {},
   "source": [
    "## DecisionTree model testing on unseen data"
   ]
  },
  {
   "cell_type": "code",
   "execution_count": 17,
   "metadata": {},
   "outputs": [
    {
     "name": "stdout",
     "output_type": "stream",
     "text": [
      "Accuracy for tree classifier: 0.7130566801619433\n"
     ]
    }
   ],
   "source": [
    "\n",
    "test_data = pd.read_csv(\"test/test.csv\").dropna()\n",
    "\n",
    "\n",
    "X_test,y_test = separate_feature_label(test_data, \"blueWins\")\n",
    "X_test = X_test[newCols]\n",
    "\n",
    "print( \"Accuracy for tree classifier: \"+str( metrics.accuracy_score(y_test, treeClassifier.predict(X_test)) ) )\n"
   ]
  },
  {
   "cell_type": "markdown",
   "metadata": {},
   "source": [
    "# Logistic Regression"
   ]
  },
  {
   "cell_type": "code",
   "execution_count": 18,
   "metadata": {},
   "outputs": [],
   "source": [
    "from sklearn.metrics import accuracy_score\n",
    "# fit logistic regression model\n",
    "from sklearn.linear_model import LogisticRegression\n",
    "from sklearn.model_selection import train_test_split\n",
    "from sklearn.preprocessing import MinMaxScaler"
   ]
  },
  {
   "cell_type": "markdown",
   "metadata": {},
   "source": [
    "## building the model"
   ]
  },
  {
   "cell_type": "code",
   "execution_count": 19,
   "metadata": {},
   "outputs": [],
   "source": [
    "\n",
    "scaler = MinMaxScaler()\n",
    "X_reg = X[newCols]\n",
    "y_reg = y\n",
    "scaler.fit(X_reg)\n",
    "X_reg = scaler.transform(X_reg)\n",
    "\n",
    "X_train, X_test, y_train, y_test = train_test_split(X_reg, y_reg, test_size=TEST_SIZE, random_state=42)"
   ]
  },
  {
   "cell_type": "code",
   "execution_count": 20,
   "metadata": {},
   "outputs": [
    {
     "name": "stdout",
     "output_type": "stream",
     "text": [
      "0.7273877292852625\n"
     ]
    }
   ],
   "source": [
    "\n",
    "logisticRegressor = LogisticRegression()\n",
    "logisticRegressor.fit(X_train, y_train)\n",
    "\n",
    "# get accuracy score\n",
    "pred_lm = logisticRegressor.predict(X_test)\n",
    "acc_lm = accuracy_score(pred_lm, y_test)\n",
    "print(acc_lm)"
   ]
  },
  {
   "cell_type": "markdown",
   "metadata": {},
   "source": [
    "## LogisticRegression model testing on unseen data"
   ]
  },
  {
   "cell_type": "code",
   "execution_count": 21,
   "metadata": {},
   "outputs": [
    {
     "name": "stdout",
     "output_type": "stream",
     "text": [
      "Accuracy for LogisticRegression classifier: 0.7338056680161943\n"
     ]
    }
   ],
   "source": [
    "\n",
    "test_data = pd.read_csv(\"test/test.csv\").dropna()\n",
    "\n",
    "\n",
    "X_test,y_test = separate_feature_label(test_data, \"blueWins\")\n",
    "X_test = X_test[newCols]\n",
    "X_test = scaler.transform(X_test)\n",
    "\n",
    "print( \"Accuracy for LogisticRegression classifier: \"+str( metrics.accuracy_score(y_test, logisticRegressor.predict(X_test)) ) )\n"
   ]
  },
  {
   "cell_type": "markdown",
   "metadata": {},
   "source": [
    "# Adaboost Classifier"
   ]
  },
  {
   "cell_type": "code",
   "execution_count": 22,
   "metadata": {},
   "outputs": [],
   "source": [
    "from sklearn.ensemble import AdaBoostClassifier"
   ]
  },
  {
   "cell_type": "markdown",
   "metadata": {},
   "source": [
    "## Model tuning"
   ]
  },
  {
   "cell_type": "code",
   "execution_count": 23,
   "metadata": {},
   "outputs": [
    {
     "name": "stdout",
     "output_type": "stream",
     "text": [
      "29\n"
     ]
    }
   ],
   "source": [
    "print(len(newCols))"
   ]
  },
  {
   "cell_type": "code",
   "execution_count": 24,
   "metadata": {},
   "outputs": [
    {
     "name": "stdout",
     "output_type": "stream",
     "text": [
      "0.7277327935222672\n"
     ]
    }
   ],
   "source": [
    "ababooster = AdaBoostClassifier(n_estimators=100, random_state=42)\n",
    "\n",
    "ababooster.fit(X_train, y_train)\n",
    "\n",
    "# get accuracy score\n",
    "pred_lm = ababooster.predict(X_test)\n",
    "acc_lm = accuracy_score(pred_lm, y_test)\n",
    "print(acc_lm)"
   ]
  },
  {
   "cell_type": "code",
   "execution_count": 25,
   "metadata": {},
   "outputs": [
    {
     "name": "stderr",
     "output_type": "stream",
     "text": [
      "/home/mohammed/.local/lib/python3.8/site-packages/sklearn/model_selection/_search.py:306: UserWarning: The total space of parameters 6 is smaller than n_iter=10. Running 6 iterations. For exhaustive searches, use GridSearchCV.\n",
      "  warnings.warn(\n"
     ]
    },
    {
     "name": "stdout",
     "output_type": "stream",
     "text": [
      "Accuracy for tree classifier: 0.728744939271255\n"
     ]
    }
   ],
   "source": [
    "ababooster = AdaBoostClassifier(n_estimators=100, random_state=42)\n",
    "\n",
    "parameters = {\n",
    "        'n_estimators':[90,100,150],\n",
    "        'base_estimator':[tree.DecisionTreeClassifier( max_depth=1),tree.DecisionTreeClassifier( max_depth=2)]\n",
    "            }\n",
    "scorer = make_scorer(f1_score)\n",
    "\n",
    "search_obj = RandomizedSearchCV(ababooster, parameters, scoring=scorer)\n",
    "fit_obj = search_obj.fit(X_train, y_train)\n",
    "best_clf = fit_obj.best_estimator_\n",
    "\n",
    "print( \"Accuracy for tree classifier: \"+str( metrics.accuracy_score(y_test, best_clf.predict(X_test)) ) )\n"
   ]
  },
  {
   "cell_type": "code",
   "execution_count": 26,
   "metadata": {},
   "outputs": [
    {
     "name": "stdout",
     "output_type": "stream",
     "text": [
      "{'mean_fit_time': array([1.02593341, 1.28318238, 1.89358268, 2.42616773, 2.44506764,\n",
      "       3.11209898]), 'std_fit_time': array([0.08679626, 0.06537423, 0.14634611, 0.25347505, 0.39089284,\n",
      "       0.13302109]), 'mean_score_time': array([0.04583559, 0.06773996, 0.07635245, 0.06331153, 0.07573733,\n",
      "       0.0783277 ]), 'std_score_time': array([0.01169488, 0.01650842, 0.00925841, 0.02058631, 0.03286712,\n",
      "       0.01694443]), 'param_n_estimators': masked_array(data=[90, 100, 150, 90, 100, 150],\n",
      "             mask=[False, False, False, False, False, False],\n",
      "       fill_value='?',\n",
      "            dtype=object), 'param_base_estimator': masked_array(data=[DecisionTreeClassifier(max_depth=1),\n",
      "                   DecisionTreeClassifier(max_depth=1),\n",
      "                   DecisionTreeClassifier(max_depth=1),\n",
      "                   DecisionTreeClassifier(max_depth=2),\n",
      "                   DecisionTreeClassifier(max_depth=2),\n",
      "                   DecisionTreeClassifier(max_depth=2)],\n",
      "             mask=[False, False, False, False, False, False],\n",
      "       fill_value='?',\n",
      "            dtype=object), 'params': [{'n_estimators': 90, 'base_estimator': DecisionTreeClassifier(max_depth=1)}, {'n_estimators': 100, 'base_estimator': DecisionTreeClassifier(max_depth=1)}, {'n_estimators': 150, 'base_estimator': DecisionTreeClassifier(max_depth=1)}, {'n_estimators': 90, 'base_estimator': DecisionTreeClassifier(max_depth=2)}, {'n_estimators': 100, 'base_estimator': DecisionTreeClassifier(max_depth=2)}, {'n_estimators': 150, 'base_estimator': DecisionTreeClassifier(max_depth=2)}], 'split0_test_score': array([0.7132645 , 0.71360759, 0.700556  , 0.68685259, 0.68585132,\n",
      "       0.67464115]), 'split1_test_score': array([0.71327573, 0.71428571, 0.70790916, 0.68125   , 0.67346939,\n",
      "       0.66931638]), 'split2_test_score': array([0.71103896, 0.7092084 , 0.70512821, 0.68675654, 0.68261563,\n",
      "       0.6735834 ]), 'split3_test_score': array([0.70265915, 0.70379338, 0.70200803, 0.68207171, 0.67515924,\n",
      "       0.67610063]), 'split4_test_score': array([0.71774824, 0.71248025, 0.72541306, 0.67391304, 0.67494182,\n",
      "       0.67658575]), 'mean_test_score': array([0.71159731, 0.71067507, 0.70820289, 0.68216878, 0.67840748,\n",
      "       0.67404546]), 'std_test_score': array([0.00497259, 0.00385756, 0.00897308, 0.00473279, 0.00490033,\n",
      "       0.00259266]), 'rank_test_score': array([1, 2, 3, 4, 5, 6], dtype=int32)}\n"
     ]
    }
   ],
   "source": [
    "print(fit_obj.cv_results_)"
   ]
  },
  {
   "cell_type": "code",
   "execution_count": 27,
   "metadata": {},
   "outputs": [],
   "source": [
    "ababooster=best_clf"
   ]
  },
  {
   "cell_type": "code",
   "execution_count": 28,
   "metadata": {},
   "outputs": [
    {
     "name": "stdout",
     "output_type": "stream",
     "text": [
      "Accuracy for tree classifier: 0.728744939271255\n"
     ]
    }
   ],
   "source": [
    "\n",
    "test_data = pd.read_csv(\"test/test.csv\").dropna()\n",
    "\n",
    "\n",
    "X_test,y_test = separate_feature_label(test_data, \"blueWins\")\n",
    "X_test = X_test[newCols]\n",
    "X_test = scaler.transform(X_test)\n",
    "\n",
    "print( \"Accuracy for tree classifier: \"+str( metrics.accuracy_score(y_test, ababooster.predict(X_test)) ) )\n"
   ]
  },
  {
   "cell_type": "code",
   "execution_count": null,
   "metadata": {},
   "outputs": [],
   "source": []
  }
 ],
 "metadata": {
  "interpreter": {
   "hash": "370b5aeab8e43c1f4c7c1a79231f599ff80f2178c514fd7381ed2ee779d16f28"
  },
  "kernelspec": {
   "display_name": "Python 3.9.12 ('base')",
   "language": "python",
   "name": "python3"
  },
  "language_info": {
   "codemirror_mode": {
    "name": "ipython",
    "version": 3
   },
   "file_extension": ".py",
   "mimetype": "text/x-python",
   "name": "python",
   "nbconvert_exporter": "python",
   "pygments_lexer": "ipython3",
   "version": "3.9.12"
  },
  "orig_nbformat": 4
 },
 "nbformat": 4,
 "nbformat_minor": 2
}
